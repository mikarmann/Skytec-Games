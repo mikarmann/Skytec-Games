{
 "cells": [
  {
   "cell_type": "code",
   "execution_count": 339,
   "id": "1d8fc0d6",
   "metadata": {},
   "outputs": [],
   "source": [
    "import numpy as np\n",
    "import pandas as pd\n",
    "import matplotlib.pyplot as plt\n",
    "import statsmodels.api as sm\n",
    "import sqlite3\n",
    "import scipy\n",
    "from sklearn.linear_model import Lasso\n",
    "from sklearn.preprocessing import PolynomialFeatures"
   ]
  },
  {
   "cell_type": "markdown",
   "id": "5119e45e",
   "metadata": {},
   "source": [
    "# 1 Успешность прототипа\n",
    "\n",
    "Известно что компания конкурент выпустила 1000 прототипов игр, из которых было 5 успешных. Наша компания выпустила 200 прототипов из которых ни один не был успешен.\n",
    "Какова вероятность что следующий (201й) наш прототип будет успешен? Решите задачу классическим и баесовским подходами.\n",
    "\n",
    "__Ответ:__ Будем считать, что успешность прототипа имеет одинаковое распределение для компании-конкурента и нашей. Дополнительно примем, что результаты разных прототипов являются $iid$. Вероятность успеха каждого прототипа имеет распределение Бернулли с параметром $\\theta$. \n",
    "Следовательно, каждый прототип будет успешным с вероятностью $\\theta$ и неудачным с вероятностью $1-\\theta$.\n"
   ]
  },
  {
   "cell_type": "markdown",
   "id": "addb0f45",
   "metadata": {},
   "source": [
    "__Классический подход:__"
   ]
  },
  {
   "cell_type": "markdown",
   "id": "13ffb012",
   "metadata": {},
   "source": [
    "Частотный подход предполагает вероятность успеха как доля успешных прототипов в бесконечной серии. В таком случае эффективной оценкой вероятности успеха каждого прототипа будет являться $\\hat{P}(\\text{Success}) = \\hat{\\theta} = \\frac{5}{1000} = 0.005$. Следовательно, вероятность, что 201-й прототип окажется успешным, равна \n",
    "\n",
    "$\\hat{P}(\\text{201_is_success = 1}) = \\hat{P}(\\text{Success = 1}) = \\hat{\\theta} = 0.005$."
   ]
  },
  {
   "cell_type": "markdown",
   "id": "4601c8d9",
   "metadata": {},
   "source": [
    "__Байесовский подход:__"
   ]
  },
  {
   "cell_type": "markdown",
   "id": "6f17ff53",
   "metadata": {},
   "source": [
    "В случае с байесовским подходом мы считаем $\\theta$ случайной величиной и обновляем априорное распределение вероятности успеха, равное 0.005, в соответствии с информацией, полученной из 200 ранее нами созданных прототипов:\n",
    "\n",
    "$P(\\theta| \\text{200 Failures}) = f(\\theta) \\cdot \\frac{P(\\text{200 Failures} | \\theta)}{P(\\text{200 Failures})} $\n",
    "\n",
    "Вероятность $P(\\text{200 Failures |} \\theta)$ имеет биномиальное распределение, а $P(\\text{200 Failures})$ отражает вероятность 200 неудач при любых возможных значениях вероятности успеха. Cледовательно, \n",
    "\n",
    "$P(\\theta| \\text{200 Failures}) = 0.005 \\cdot \\frac{(1-\\theta)^{200} \\cdot  \\theta^0}{\\int_{0}^1 0.005 \\cdot (1-\\theta)^{200} \\cdot \\theta d \\theta} = \\frac{(1-\\theta)^{200} \\cdot  \\theta^0}{\\int_{0}^1 (1-\\theta)^{200} \\theta^0 d \\theta} = f(\\theta| \\text{200 Failures}) \\sim \\beta(1, 201)$"
   ]
  },
  {
   "cell_type": "markdown",
   "id": "b5bf9018",
   "metadata": {},
   "source": [
    "# 2. Сравнение групп платящих игроков"
   ]
  },
  {
   "cell_type": "markdown",
   "id": "1fa05d7a",
   "metadata": {},
   "source": [
    "В мобильной игре около 10% игроков совершает платежи в первый месяц с момента установки игры (база расчета - 500 игроков). \n",
    "Геймдизайнеры разработали обновление которое по их экспертной оценке должно увеличить процент плательщиков с 10% до 11%. Цель эксперимента - подтвердить или опровергнуть их гипотезу."
   ]
  },
  {
   "cell_type": "markdown",
   "id": "78a3308b",
   "metadata": {},
   "source": [
    "1. Опишите оптимальный по вашему мнению дизайн эксперимента\n",
    "\n",
    "__Ответ:__\n",
    "    \n",
    "1. Оптимальный дизайн эксперимента представляет из себя классическое А/Б-тестирование, где каждый из приходящих игроков случайным образом получает или стандартную версию игры (контрольная группа), или версию с обновлением (экспериментальная группа). Далее для каждого игрока фиксируется факт совершения внутриигровой покупки в течение первого месяца (1 - совершил покупку, 0 - не совершил)."
   ]
  },
  {
   "cell_type": "markdown",
   "id": "d9f2731d",
   "metadata": {},
   "source": [
    "2.\tРассчитайте длительность эксперимента при условии что каждый день в игру приходит около 100 новых игроков.\n",
    "\n",
    "__Ответ:__ Взяв стандартные показатели мощности ($1-\\beta=80\\text{%}$) и значимости ($\\alpha = 5\\text{%}$) теста, рассчитаем длительность теста по следующей формуле:\n",
    "$$n_{\\text{one group}} = \\frac{(\\sigma^2_A + \\sigma^2_B) \\cdot (Z_{\\alpha/2} + Z_{\\beta})^2}{MDE^2}$$\n",
    "\n",
    "$\\sigma^2_A$ - дисперсия игроков в группе А \\\n",
    "$\\sigma^2_B$ - дисперсия игроков в группе B \\\n",
    "$\\text{MDE}$ - Minimal detectable effect\n",
    "\n",
    "Данный формула достаточно известна по калькулятору Эвана Миллера и позволяет учесть ошибки I-го и II-рода, а также минимальный наблюдаемый эффект (minimal detectable effect)."
   ]
  },
  {
   "cell_type": "code",
   "execution_count": 291,
   "id": "d101e704",
   "metadata": {},
   "outputs": [
    {
     "name": "stdout",
     "output_type": "stream",
     "text": [
      "Необходимое число игроков в одной группе: 14748\n",
      "Общее необходимое числов игроков: 29496\n",
      "Количество дня для проведения эксперимента: 295\n"
     ]
    }
   ],
   "source": [
    "alpha = 0.05\n",
    "beta = 0.2\n",
    "p1 = 0.1\n",
    "p2 = 0.11\n",
    "\n",
    "n = (p1*(1-p1) + p2*(1-p2)) * (scipy.stats.norm.ppf(alpha/2) + scipy.stats.norm.ppf(beta))**2 / (p2-p1)**2\n",
    "\n",
    "print(f'Необходимое число игроков в одной группе: {round(n)}')\n",
    "print(f'Общее необходимое числов игроков: {2 * round(n)}')\n",
    "print(f'Количество дня для проведения эксперимента: {round(2 * round(n) / 100)}')"
   ]
  },
  {
   "cell_type": "markdown",
   "id": "b2b12470",
   "metadata": {},
   "source": [
    "3. Самостоятельно сгенерируйте датасет с около 10% плательщиков (контроль) и рассчитайте 95% HDI / CI. \n",
    "\n",
    "__Ответ:__ Факт совершения покупки отдельным игроком может быть описан распределением Бернулли с вероятностью успеха $p=0.1$. "
   ]
  },
  {
   "cell_type": "code",
   "execution_count": 297,
   "id": "ffc99be4",
   "metadata": {},
   "outputs": [
    {
     "name": "stdout",
     "output_type": "stream",
     "text": [
      "Выборочное среднее: 0.098\n"
     ]
    }
   ],
   "source": [
    "np.random.seed(42)\n",
    "n=14748\n",
    "\n",
    "control = np.random.binomial(1, 0.1, size=n)\n",
    "print(f'Выборочное среднее: {round(control.mean(), 3)}')"
   ]
  },
  {
   "cell_type": "markdown",
   "id": "461048de",
   "metadata": {},
   "source": [
    "__95% Confidence interval:__"
   ]
  },
  {
   "cell_type": "markdown",
   "id": "658f9b11",
   "metadata": {},
   "source": [
    "CI: $\\hat{p}_1 + Z_{\\alpha / 2} \\cdot \\frac{\\sigma}{\\sqrt{n}} \\leq p_1 \\leq \\hat{p}_1 + Z_{1 - \\alpha / 2} \\cdot \\frac{\\sigma}{\\sqrt{n}}$"
   ]
  },
  {
   "cell_type": "code",
   "execution_count": 315,
   "id": "44bdaed5",
   "metadata": {},
   "outputs": [
    {
     "name": "stdout",
     "output_type": "stream",
     "text": [
      "95% Confidence interval: [0.0935130601, 0.103123772]\n"
     ]
    }
   ],
   "source": [
    "left_bound = control.mean() - scipy.stats.norm.ppf(0.975) * control.std() / np.sqrt(n)\n",
    "right_bound = control.mean() + scipy.stats.norm.ppf(0.975) * control.std() / np.sqrt(n)\n",
    "\n",
    "print(f'95% Confidence interval: [{round(left_bound, 10)}, {round(right_bound, 10)}]')"
   ]
  },
  {
   "cell_type": "markdown",
   "id": "b84b02a1",
   "metadata": {},
   "source": [
    "__95% High density interval:__"
   ]
  },
  {
   "cell_type": "code",
   "execution_count": 310,
   "id": "51426a68",
   "metadata": {},
   "outputs": [
    {
     "name": "stdout",
     "output_type": "stream",
     "text": [
      "Количество игроков, соверших покупку в первый месяц: 1450\n"
     ]
    }
   ],
   "source": [
    "print(f'Количество игроков, соверших покупку в первый месяц: {control.sum()}')"
   ]
  },
  {
   "cell_type": "markdown",
   "id": "99e3180f",
   "metadata": {},
   "source": [
    "Здесь как и в предыдущем задании вероятность покупки каждый игроком описывается распределением Бернулли с параметром $\\theta$. Априорно считаем, что $\\theta=0.1$ (на основе изначального расчета). Тогда\n",
    "\n",
    "$ f(\\theta| \\text{14748 users}) = 0.1 \\cdot \\frac{\\theta^{1450} \\cdot (1-\\theta)^{13298}}{\\int_0^1 0.1 \\cdot \\theta^{1450} \\cdot (1-\\theta)^{13298} d \\theta} \\sim \\beta(1451, 13299)$"
   ]
  },
  {
   "cell_type": "code",
   "execution_count": 314,
   "id": "4161b119",
   "metadata": {},
   "outputs": [
    {
     "name": "stdout",
     "output_type": "stream",
     "text": [
      "95% HDI: (0.09361868336620141, 0.10323023604389701)\n"
     ]
    }
   ],
   "source": [
    "print(f'95% HDI: {scipy.stats.beta.interval(0.95, 1451, 13299)}')"
   ]
  },
  {
   "cell_type": "markdown",
   "id": "722a06f5",
   "metadata": {},
   "source": [
    "4.\tСгенерируйте несколько вариантов экспериментальной группы (хуже, лучше, без эффекта), рассчитайте силу эффекта, HDI / CI и ваши выводы для каждого варианта."
   ]
  },
  {
   "cell_type": "code",
   "execution_count": 333,
   "id": "d4098f29",
   "metadata": {},
   "outputs": [],
   "source": [
    "np.random.seed(42)\n",
    "better_treatment = np.random.binomial(1, 0.11, size=n)\n",
    "worse_treatment = np.random.binomial(1, 0.09, size=n)\n",
    "equal_treatment = np.random.binomial(1, 0.1, size=n)"
   ]
  },
  {
   "cell_type": "markdown",
   "id": "c8ebe21f",
   "metadata": {},
   "source": [
    "Рассчитаем размер эффекта при помощи показателя d Коэна."
   ]
  },
  {
   "cell_type": "code",
   "execution_count": 306,
   "id": "47e8027a",
   "metadata": {},
   "outputs": [
    {
     "name": "stdout",
     "output_type": "stream",
     "text": [
      "Размер эффекта для группы лучше: 0.11113085342934971\n",
      "Размер эффекта для группы хуже: -0.11362197320682065\n",
      "Размер эффекта для группы без эффекта: 0.03692305043199882\n"
     ]
    }
   ],
   "source": [
    "d1 = (better_treatment.mean() - control.mean()) / ((((control - control.mean())**2).sum() + ((better_treatment - better_treatment.mean())**2).sum()) / (2 * n - 1))\n",
    "d2 = (worse_treatment.mean() - control.mean()) / ((((control - control.mean())**2).sum() + ((worse_treatment - worse_treatment.mean())**2).sum()) / (2 * n - 1))\n",
    "d3 = (equal_treatment.mean() - control.mean()) / ((((control - control.mean())**2).sum() + ((equal_treatment - equal_treatment.mean())**2).sum()) / (2 * n - 1))\n",
    "\n",
    "print(f'Размер эффекта для группы лучше: {d1}')\n",
    "print(f'Размер эффекта для группы хуже: {d2}')\n",
    "print(f'Размер эффекта для группы без эффекта: {d3}')"
   ]
  },
  {
   "cell_type": "markdown",
   "id": "e2f19232",
   "metadata": {},
   "source": [
    "Видно, что для групп лучше и хуже эффект присутствует, но его размер достаточно маленький (<0.2). Для группы без эффекта размер эффекта почти нулевой."
   ]
  },
  {
   "cell_type": "markdown",
   "id": "a28753ba",
   "metadata": {},
   "source": [
    "__Frequentist:__\n",
    "\n",
    "CI: $(\\hat{p}_B -\\hat{p}_A) + Z_{\\alpha / 2} \\cdot \\frac{\\sigma_{B-A}}{\\sqrt{n}} \\leq (p_B - p_A) \\leq (\\hat{p}_B -\\hat{p}_A) + Z_{1 - \\alpha / 2} \\cdot \\frac{\\sigma_{B-A}}{\\sqrt{n}}$"
   ]
  },
  {
   "cell_type": "code",
   "execution_count": 318,
   "id": "c51858b7",
   "metadata": {},
   "outputs": [
    {
     "name": "stdout",
     "output_type": "stream",
     "text": [
      "95% Confidence interval Better experimental group: [0.0087, 0.0119]\n",
      "95% Confidence interval Worse experimental group: [-0.0163, -0.003]\n",
      "95% Confidence interval Equal experimental group: [-0.0035, 0.0101]\n"
     ]
    }
   ],
   "source": [
    "left_bound_b = better_treatment.mean() - control.mean() - scipy.stats.norm.ppf(0.975) * (control - better_treatment).std() / np.sqrt(n)\n",
    "right_bound_b = better_treatment.mean() - control.mean() + scipy.stats.norm.ppf(0.975) * (control - better_treatment).std() / np.sqrt(n)\n",
    "\n",
    "left_bound_w = worse_treatment.mean() - control.mean() - scipy.stats.norm.ppf(0.975) * (control - worse_treatment).std() / np.sqrt(n)\n",
    "right_bound_w = worse_treatment.mean() - control.mean() + scipy.stats.norm.ppf(0.975) * (control - worse_treatment).std() / np.sqrt(n)\n",
    "\n",
    "left_bound_e = equal_treatment.mean() - control.mean() - scipy.stats.norm.ppf(0.975) * (control - equal_treatment).std() / np.sqrt(n)\n",
    "right_bound_e = equal_treatment.mean() - control.mean() + scipy.stats.norm.ppf(0.975) * (control - equal_treatment).std() / np.sqrt(n)\n",
    "\n",
    "print(f'95% Confidence interval Better experimental group: [{round(left_bound_b, 4)}, {round(right_bound_b, 4)}]')\n",
    "print(f'95% Confidence interval Worse experimental group: [{round(left_bound_w, 4)}, {round(right_bound_w, 4)}]')\n",
    "print(f'95% Confidence interval Equal experimental group: [{round(left_bound_e, 4)}, {round(right_bound_e, 4)}]')"
   ]
  },
  {
   "cell_type": "markdown",
   "id": "d2b8669d",
   "metadata": {},
   "source": [
    "Гипотеза о том, что в экспериментальной группе процент покупок выше на 1% не отвергается для группы лучшей и без изменений (0.01 входит в доверительный интервал), но отвергается для худшей."
   ]
  },
  {
   "cell_type": "code",
   "execution_count": 362,
   "id": "2d7c63b9",
   "metadata": {},
   "outputs": [
    {
     "name": "stdout",
     "output_type": "stream",
     "text": [
      "(better_treatment == 1).sum() = 1602\n"
     ]
    }
   ],
   "source": [
    "print(f'(better_treatment == 1).sum() = {(better_treatment == 1).sum()}')"
   ]
  },
  {
   "cell_type": "markdown",
   "id": "ed378b1d",
   "metadata": {},
   "source": [
    "__Bayesian:__\n",
    "    \n",
    "$f(\\theta) = 0.01$\n",
    "\n",
    "$f(\\theta | data) = 0.01 \\cdot \\frac{\\theta^{1602} \\cdot (1-\\theta)^{12146}}{\\int_0^1 0.01 \\cdot \\theta^{1602} \\cdot (1-\\theta)^{12146} d\\theta} \\sim \\beta(1603, 12147)$"
   ]
  },
  {
   "cell_type": "code",
   "execution_count": 364,
   "id": "b3d9a90c",
   "metadata": {},
   "outputs": [
    {
     "name": "stdout",
     "output_type": "stream",
     "text": [
      "95% HDI для лучшей группы: (0.1112078789306941, 0.1219329188604131)\n"
     ]
    }
   ],
   "source": [
    "b_count = (better_treatment == 1).sum()\n",
    "print(f'95% HDI для лучшей группы: {scipy.stats.beta.interval(0.95, b_count, 13748-b_count + 1)}')"
   ]
  },
  {
   "cell_type": "markdown",
   "id": "56739080",
   "metadata": {},
   "source": [
    "Аналогично для двух остальных групп"
   ]
  },
  {
   "cell_type": "code",
   "execution_count": 365,
   "id": "f1a37269",
   "metadata": {},
   "outputs": [
    {
     "name": "stdout",
     "output_type": "stream",
     "text": [
      "95% HDI для худшей группы: (0.09028620893430529, 0.1000937332276875)\n"
     ]
    }
   ],
   "source": [
    "w_count = (worse_treatment == 1).sum()\n",
    "print(f'95% HDI для худшей группы: {scipy.stats.beta.interval(0.95, w_count, 13748 - w_count + 1)}')"
   ]
  },
  {
   "cell_type": "code",
   "execution_count": 366,
   "id": "e555548e",
   "metadata": {},
   "outputs": [
    {
     "name": "stdout",
     "output_type": "stream",
     "text": [
      "95% HDI для группы без разницы: (0.10387078447187569, 0.11428916940231125)\n"
     ]
    }
   ],
   "source": [
    "e_count = (equal_treatment == 1).sum()\n",
    "print(f'95% HDI для группы без разницы: {scipy.stats.beta.interval(0.95, e_count, 13748 - e_count + 1)}')"
   ]
  },
  {
   "cell_type": "markdown",
   "id": "55942556",
   "metadata": {},
   "source": [
    "5. Решите задачу 2 разными подходами: frequentist / bayesian"
   ]
  },
  {
   "cell_type": "code",
   "execution_count": null,
   "id": "9f341b78",
   "metadata": {},
   "outputs": [],
   "source": []
  },
  {
   "cell_type": "markdown",
   "id": "f45a2538",
   "metadata": {},
   "source": [
    "# 3. Предсказание оттока"
   ]
  },
  {
   "cell_type": "markdown",
   "id": "b99358e8",
   "metadata": {},
   "source": [
    "В мобильной игре, после установки и запуска игры начинается туториал - игрок проходит обучение игре, которое состоит из нескольких последовательных шагов. \n",
    "Данные представляют собой набор строк - уникальный id игрока, datetime и номер шага туториала который пройден игроком.\n",
    "Геймдизайнеры выдвинули гипотезу - если мы с высокой вероятностью сможем предсказать шаг на котором игрок уйдет из игры заранее, то запустив альтернативное продолжение туториала с этого шага мы избежим оттока и увеличим прохождение туториала.\n"
   ]
  },
  {
   "cell_type": "markdown",
   "id": "ec41db13",
   "metadata": {},
   "source": [
    "1. Как бы вы решали задачу предсказания отвала игрока?\n",
    "\n",
    "__Ответ:__ Данный кейс представляет собой задачу множественной классификации, где для каждого игрока предсказывается вероятность отвала на каждом шаге туториала. Если вероятность отвала на каком-то шаге достаточно высокая (например, выше 0.5), то модель считает, что игрок захочет уйти на этом шаге, и запускает альтернативное продолжение туториала. Оптимальный порог для предсказывания может быть подобран таким образом, чтобы максимизировать таргетируемую метрику на валидационной выборке или кросс-валидации.\n",
    "\n",
    "2. Как оценить качество полученной модели? Опишите методы которые знаете и какой считаете оптимальным и почему.\n",
    "\n",
    "__Ответ:__ В зависимости от конкретных целей существуют следующие метрики качества модели: accuracy, precision, recall, f-score, ROC-AUC и пр. В решении данной конкретной задачи было бы полезно оценить стоимость каждого вида прогнозов (TP, FP, TN, FN), чтобы более точно понять какая метрика является оптимальной. Из общих соображений можно предположить, что нам нужно выявить как можно большую долю игроков из числа тех, которые хотят уйти, чтобы сохранить их при помощи альтернативного туториала, то есть, мы таргетируем метрику $recall=\\frac{TP}{TP+FN}$ (доля найденных моделью уходящих игроков среди всех уходящих). При этом видится, что если альтернативное продолжение будет запущено для игрока, который не собирался уходить (FP), то это не так страшно. При этом очевидно, что если запускать альтернативный туториал для всех игроков (модель всегда предсказывает уход), это максимизирует $recall$, однако $precision$ модели будет низким. Если считать, что ошибка FP тоже нежелательна, подойдет метрика $f\\text{-}score$, учитывающая $precison$, но отдающая большее предпочтение $recall$ с ростом параметра $\\beta$. Важно учесть, что для многоклассовой класификации нужно совершить микро- или макроусреднение метрик. Альтернативно, для многоклассовой классификации существуют такие метрики, как каппа Коэна или коэффициент корреляции Мэтьюза, однако они менее популярны.\n",
    "\n",
    "3.\tПредположим что вы разработали модель которая с достаточной вероятностью предсказывает отвал. Опишите дизайн эксперимента и методологию по проверке гипотезы геймдизайнеров.\n",
    "\n",
    "__Ответ:__ Теперь игроки, для которых модель (достаточно точно) предсказала отвал, могут участвовать в новом А/Б-тесте, в рамках которого для них случайным образом будет запущено альтернативное продолжение туториала (экспериментальная группа) или ничего не изменится (контрольная группа). Далее при помощи разных подходов можно оценить разницу в долях оставшихся игроков в обеих группах, сделав тем самым выводы об эффективности альтернативного продолжения и верности выдвинутой гипотезы."
   ]
  },
  {
   "cell_type": "markdown",
   "id": "b3c1107a",
   "metadata": {},
   "source": [
    "# 4. Эффективность рекламных кампаний"
   ]
  },
  {
   "cell_type": "markdown",
   "id": "9762e68d",
   "metadata": {},
   "source": [
    "1. Отдел маркетинга руководствуется гипотезой - чем больший COST расходуется на кампанию тем ниже ROAS 60го дня (рост CPI при увеличении объёма закупки при сохранении того же LTV 60го дня). На основании данных подтвердите или опровергните эту гипотезу. Исходите из того что мы точно знаем что CPI зависит от объема нелинейно, вопрос в том как эту зависимость описать и учесть во 2м вопросе."
   ]
  },
  {
   "cell_type": "markdown",
   "id": "2372f9b2",
   "metadata": {},
   "source": [
    "В базе данных находятся три таблицы с информацией о расходах (costs), доходах (revenue) и источниках (source_comparision). "
   ]
  },
  {
   "cell_type": "code",
   "execution_count": 106,
   "id": "d733aab5",
   "metadata": {},
   "outputs": [
    {
     "data": {
      "text/plain": [
       "[('source_comparison',), ('costs',), ('revenue',)]"
      ]
     },
     "execution_count": 106,
     "metadata": {},
     "output_type": "execute_result"
    }
   ],
   "source": [
    "db = sqlite3.connect('testcase.db')\n",
    "cursor = db.cursor()\n",
    "cursor.execute(\"SELECT name FROM sqlite_master WHERE type='table';\")\n",
    "tables = cursor.fetchall()\n",
    "\n",
    "tables"
   ]
  },
  {
   "cell_type": "markdown",
   "id": "4d67bae9",
   "metadata": {},
   "source": [
    "Для данной задачи нам понадобятся только две из них - о расходах и доходах. Переформатируем их в pandas dataframe для удобства работы."
   ]
  },
  {
   "cell_type": "code",
   "execution_count": 107,
   "id": "d295da1c",
   "metadata": {},
   "outputs": [
    {
     "name": "stdout",
     "output_type": "stream",
     "text": [
      "costs columns: Index(['Install_Dates', 'campaign_id', 'Country', 'installs', 'spends'], dtype='object')\n",
      "revenue columns: Index(['Install_Dates', 'campaign_id', 'Country', '1d_LTV', '3d_LTV', '7d_LTV',\n",
      "       '14d_LTV', '30d_LTV', '60d_LTV'],\n",
      "      dtype='object')\n"
     ]
    }
   ],
   "source": [
    "costs = pd.read_sql_query('SELECT * FROM costs', db)\n",
    "revenue = pd.read_sql_query('SELECT * FROM revenue', db) \n",
    "\n",
    "print(f'costs columns: {costs.columns}')\n",
    "print(f'revenue columns: {revenue.columns}')"
   ]
  },
  {
   "cell_type": "code",
   "execution_count": 259,
   "id": "3fd14037",
   "metadata": {},
   "outputs": [
    {
     "data": {
      "text/html": [
       "<div>\n",
       "<style scoped>\n",
       "    .dataframe tbody tr th:only-of-type {\n",
       "        vertical-align: middle;\n",
       "    }\n",
       "\n",
       "    .dataframe tbody tr th {\n",
       "        vertical-align: top;\n",
       "    }\n",
       "\n",
       "    .dataframe thead th {\n",
       "        text-align: right;\n",
       "    }\n",
       "</style>\n",
       "<table border=\"1\" class=\"dataframe\">\n",
       "  <thead>\n",
       "    <tr style=\"text-align: right;\">\n",
       "      <th></th>\n",
       "      <th>Install_Dates</th>\n",
       "      <th>campaign_id</th>\n",
       "      <th>Country</th>\n",
       "      <th>installs</th>\n",
       "      <th>spends</th>\n",
       "      <th>1d_LTV</th>\n",
       "      <th>3d_LTV</th>\n",
       "      <th>7d_LTV</th>\n",
       "      <th>14d_LTV</th>\n",
       "      <th>30d_LTV</th>\n",
       "      <th>60d_LTV</th>\n",
       "    </tr>\n",
       "  </thead>\n",
       "  <tbody>\n",
       "    <tr>\n",
       "      <th>0</th>\n",
       "      <td>2020-04-14</td>\n",
       "      <td>90570</td>\n",
       "      <td>CZ</td>\n",
       "      <td>35.0</td>\n",
       "      <td>19.79</td>\n",
       "      <td>7.721194</td>\n",
       "      <td>8.104811</td>\n",
       "      <td>10.209480</td>\n",
       "      <td>11.845200</td>\n",
       "      <td>15.349594</td>\n",
       "      <td>15.768420</td>\n",
       "    </tr>\n",
       "    <tr>\n",
       "      <th>1</th>\n",
       "      <td>2020-04-28</td>\n",
       "      <td>90619</td>\n",
       "      <td>AT</td>\n",
       "      <td>5.0</td>\n",
       "      <td>4.99</td>\n",
       "      <td>1.032342</td>\n",
       "      <td>1.032342</td>\n",
       "      <td>1.248888</td>\n",
       "      <td>1.501317</td>\n",
       "      <td>1.761729</td>\n",
       "      <td>-1.000000</td>\n",
       "    </tr>\n",
       "    <tr>\n",
       "      <th>2</th>\n",
       "      <td>2020-05-10</td>\n",
       "      <td>794235</td>\n",
       "      <td>PK</td>\n",
       "      <td>79.0</td>\n",
       "      <td>0.40</td>\n",
       "      <td>0.212500</td>\n",
       "      <td>0.254620</td>\n",
       "      <td>0.390186</td>\n",
       "      <td>0.519535</td>\n",
       "      <td>0.652006</td>\n",
       "      <td>-1.000000</td>\n",
       "    </tr>\n",
       "    <tr>\n",
       "      <th>3</th>\n",
       "      <td>2020-05-07</td>\n",
       "      <td>91872</td>\n",
       "      <td>FR</td>\n",
       "      <td>12.0</td>\n",
       "      <td>9.56</td>\n",
       "      <td>4.661390</td>\n",
       "      <td>4.787784</td>\n",
       "      <td>6.422362</td>\n",
       "      <td>6.596973</td>\n",
       "      <td>6.596973</td>\n",
       "      <td>-1.000000</td>\n",
       "    </tr>\n",
       "    <tr>\n",
       "      <th>4</th>\n",
       "      <td>2020-04-03</td>\n",
       "      <td>19115</td>\n",
       "      <td>JP</td>\n",
       "      <td>6.0</td>\n",
       "      <td>3.39</td>\n",
       "      <td>0.833442</td>\n",
       "      <td>0.833442</td>\n",
       "      <td>1.103046</td>\n",
       "      <td>1.167516</td>\n",
       "      <td>1.398647</td>\n",
       "      <td>1.416652</td>\n",
       "    </tr>\n",
       "  </tbody>\n",
       "</table>\n",
       "</div>"
      ],
      "text/plain": [
       "  Install_Dates  campaign_id Country  installs  spends    1d_LTV    3d_LTV  \\\n",
       "0    2020-04-14        90570      CZ      35.0   19.79  7.721194  8.104811   \n",
       "1    2020-04-28        90619      AT       5.0    4.99  1.032342  1.032342   \n",
       "2    2020-05-10       794235      PK      79.0    0.40  0.212500  0.254620   \n",
       "3    2020-05-07        91872      FR      12.0    9.56  4.661390  4.787784   \n",
       "4    2020-04-03        19115      JP       6.0    3.39  0.833442  0.833442   \n",
       "\n",
       "      7d_LTV    14d_LTV    30d_LTV    60d_LTV  \n",
       "0  10.209480  11.845200  15.349594  15.768420  \n",
       "1   1.248888   1.501317   1.761729  -1.000000  \n",
       "2   0.390186   0.519535   0.652006  -1.000000  \n",
       "3   6.422362   6.596973   6.596973  -1.000000  \n",
       "4   1.103046   1.167516   1.398647   1.416652  "
      ]
     },
     "execution_count": 259,
     "metadata": {},
     "output_type": "execute_result"
    }
   ],
   "source": [
    "df = costs.merge(revenue, on=['Install_Dates', 'campaign_id', 'Country'])\n",
    "df.head()"
   ]
  },
  {
   "cell_type": "markdown",
   "id": "a4b9a19f",
   "metadata": {},
   "source": [
    "ROAS на 60-й день для каждой i-й рекламной компании может быть рассчитан как $\\text{ROAS}_i = \\frac{\\text{60d_LTV}}{\\text{spends}} \\cdot 100\\text{%}$ "
   ]
  },
  {
   "cell_type": "code",
   "execution_count": 341,
   "id": "35c967f9",
   "metadata": {},
   "outputs": [
    {
     "data": {
      "text/html": [
       "<div>\n",
       "<style scoped>\n",
       "    .dataframe tbody tr th:only-of-type {\n",
       "        vertical-align: middle;\n",
       "    }\n",
       "\n",
       "    .dataframe tbody tr th {\n",
       "        vertical-align: top;\n",
       "    }\n",
       "\n",
       "    .dataframe thead th {\n",
       "        text-align: right;\n",
       "    }\n",
       "</style>\n",
       "<table border=\"1\" class=\"dataframe\">\n",
       "  <thead>\n",
       "    <tr style=\"text-align: right;\">\n",
       "      <th></th>\n",
       "      <th>Install_Dates</th>\n",
       "      <th>campaign_id</th>\n",
       "      <th>Country</th>\n",
       "      <th>installs</th>\n",
       "      <th>spends</th>\n",
       "      <th>1d_LTV</th>\n",
       "      <th>3d_LTV</th>\n",
       "      <th>7d_LTV</th>\n",
       "      <th>14d_LTV</th>\n",
       "      <th>30d_LTV</th>\n",
       "      <th>60d_LTV</th>\n",
       "      <th>best_installs</th>\n",
       "      <th>best_budget</th>\n",
       "      <th>diff</th>\n",
       "      <th>status</th>\n",
       "      <th>60d_ROAS</th>\n",
       "    </tr>\n",
       "  </thead>\n",
       "  <tbody>\n",
       "    <tr>\n",
       "      <th>0</th>\n",
       "      <td>2020-04-14</td>\n",
       "      <td>90570</td>\n",
       "      <td>CZ</td>\n",
       "      <td>35.0</td>\n",
       "      <td>19.79</td>\n",
       "      <td>7.721194</td>\n",
       "      <td>8.104811</td>\n",
       "      <td>10.209480</td>\n",
       "      <td>11.845200</td>\n",
       "      <td>15.349594</td>\n",
       "      <td>15.768420</td>\n",
       "      <td>31.966315</td>\n",
       "      <td>349.876273</td>\n",
       "      <td>-342.773727</td>\n",
       "      <td>cut</td>\n",
       "      <td>79.678728</td>\n",
       "    </tr>\n",
       "    <tr>\n",
       "      <th>1</th>\n",
       "      <td>2020-04-28</td>\n",
       "      <td>90619</td>\n",
       "      <td>AT</td>\n",
       "      <td>5.0</td>\n",
       "      <td>4.99</td>\n",
       "      <td>1.032342</td>\n",
       "      <td>1.032342</td>\n",
       "      <td>1.248888</td>\n",
       "      <td>1.501317</td>\n",
       "      <td>1.761729</td>\n",
       "      <td>-1.000000</td>\n",
       "      <td>0.000000</td>\n",
       "      <td>0.000000</td>\n",
       "      <td>-24.950000</td>\n",
       "      <td>stop</td>\n",
       "      <td>-20.040080</td>\n",
       "    </tr>\n",
       "    <tr>\n",
       "      <th>2</th>\n",
       "      <td>2020-05-10</td>\n",
       "      <td>794235</td>\n",
       "      <td>PK</td>\n",
       "      <td>79.0</td>\n",
       "      <td>0.40</td>\n",
       "      <td>0.212500</td>\n",
       "      <td>0.254620</td>\n",
       "      <td>0.390186</td>\n",
       "      <td>0.519535</td>\n",
       "      <td>0.652006</td>\n",
       "      <td>-1.000000</td>\n",
       "      <td>0.000000</td>\n",
       "      <td>0.000000</td>\n",
       "      <td>-31.600000</td>\n",
       "      <td>stop</td>\n",
       "      <td>-250.000000</td>\n",
       "    </tr>\n",
       "    <tr>\n",
       "      <th>3</th>\n",
       "      <td>2020-05-07</td>\n",
       "      <td>91872</td>\n",
       "      <td>FR</td>\n",
       "      <td>12.0</td>\n",
       "      <td>9.56</td>\n",
       "      <td>4.661390</td>\n",
       "      <td>4.787784</td>\n",
       "      <td>6.422362</td>\n",
       "      <td>6.596973</td>\n",
       "      <td>6.596973</td>\n",
       "      <td>-1.000000</td>\n",
       "      <td>0.000000</td>\n",
       "      <td>0.000000</td>\n",
       "      <td>-114.720000</td>\n",
       "      <td>stop</td>\n",
       "      <td>-10.460251</td>\n",
       "    </tr>\n",
       "    <tr>\n",
       "      <th>4</th>\n",
       "      <td>2020-04-03</td>\n",
       "      <td>19115</td>\n",
       "      <td>JP</td>\n",
       "      <td>6.0</td>\n",
       "      <td>3.39</td>\n",
       "      <td>0.833442</td>\n",
       "      <td>0.833442</td>\n",
       "      <td>1.103046</td>\n",
       "      <td>1.167516</td>\n",
       "      <td>1.398647</td>\n",
       "      <td>1.416652</td>\n",
       "      <td>0.000000</td>\n",
       "      <td>0.000000</td>\n",
       "      <td>-20.340000</td>\n",
       "      <td>stop</td>\n",
       "      <td>41.789143</td>\n",
       "    </tr>\n",
       "    <tr>\n",
       "      <th>...</th>\n",
       "      <td>...</td>\n",
       "      <td>...</td>\n",
       "      <td>...</td>\n",
       "      <td>...</td>\n",
       "      <td>...</td>\n",
       "      <td>...</td>\n",
       "      <td>...</td>\n",
       "      <td>...</td>\n",
       "      <td>...</td>\n",
       "      <td>...</td>\n",
       "      <td>...</td>\n",
       "      <td>...</td>\n",
       "      <td>...</td>\n",
       "      <td>...</td>\n",
       "      <td>...</td>\n",
       "      <td>...</td>\n",
       "    </tr>\n",
       "    <tr>\n",
       "      <th>10201</th>\n",
       "      <td>2020-04-02</td>\n",
       "      <td>90464</td>\n",
       "      <td>UN</td>\n",
       "      <td>0.0</td>\n",
       "      <td>0.45</td>\n",
       "      <td>0.000000</td>\n",
       "      <td>0.000000</td>\n",
       "      <td>0.000000</td>\n",
       "      <td>0.000000</td>\n",
       "      <td>0.000000</td>\n",
       "      <td>0.000000</td>\n",
       "      <td>0.000000</td>\n",
       "      <td>0.000000</td>\n",
       "      <td>0.000000</td>\n",
       "      <td>stop</td>\n",
       "      <td>0.000000</td>\n",
       "    </tr>\n",
       "    <tr>\n",
       "      <th>10202</th>\n",
       "      <td>2020-04-27</td>\n",
       "      <td>19115</td>\n",
       "      <td>DE</td>\n",
       "      <td>27.0</td>\n",
       "      <td>21.33</td>\n",
       "      <td>31.003103</td>\n",
       "      <td>36.859179</td>\n",
       "      <td>45.552113</td>\n",
       "      <td>52.804398</td>\n",
       "      <td>58.205993</td>\n",
       "      <td>-1.000000</td>\n",
       "      <td>0.000000</td>\n",
       "      <td>0.000000</td>\n",
       "      <td>-575.910000</td>\n",
       "      <td>stop</td>\n",
       "      <td>-4.688233</td>\n",
       "    </tr>\n",
       "    <tr>\n",
       "      <th>10203</th>\n",
       "      <td>2020-03-27</td>\n",
       "      <td>159253</td>\n",
       "      <td>DK</td>\n",
       "      <td>2.0</td>\n",
       "      <td>0.19</td>\n",
       "      <td>0.351962</td>\n",
       "      <td>0.351962</td>\n",
       "      <td>0.386234</td>\n",
       "      <td>0.448579</td>\n",
       "      <td>0.564261</td>\n",
       "      <td>0.693104</td>\n",
       "      <td>0.000000</td>\n",
       "      <td>0.000000</td>\n",
       "      <td>-0.380000</td>\n",
       "      <td>stop</td>\n",
       "      <td>364.791594</td>\n",
       "    </tr>\n",
       "    <tr>\n",
       "      <th>10204</th>\n",
       "      <td>2020-04-12</td>\n",
       "      <td>790034</td>\n",
       "      <td>RU</td>\n",
       "      <td>534.0</td>\n",
       "      <td>81.06</td>\n",
       "      <td>47.323662</td>\n",
       "      <td>56.483875</td>\n",
       "      <td>65.396237</td>\n",
       "      <td>75.178386</td>\n",
       "      <td>85.603100</td>\n",
       "      <td>92.690140</td>\n",
       "      <td>278.517898</td>\n",
       "      <td>13629.239907</td>\n",
       "      <td>-29656.800093</td>\n",
       "      <td>cut</td>\n",
       "      <td>114.347569</td>\n",
       "    </tr>\n",
       "    <tr>\n",
       "      <th>10205</th>\n",
       "      <td>2020-04-28</td>\n",
       "      <td>787733</td>\n",
       "      <td>FR</td>\n",
       "      <td>11.0</td>\n",
       "      <td>3.16</td>\n",
       "      <td>1.369476</td>\n",
       "      <td>1.464028</td>\n",
       "      <td>2.239044</td>\n",
       "      <td>2.464347</td>\n",
       "      <td>2.618610</td>\n",
       "      <td>-1.000000</td>\n",
       "      <td>0.000000</td>\n",
       "      <td>0.000000</td>\n",
       "      <td>-34.760000</td>\n",
       "      <td>stop</td>\n",
       "      <td>-31.645570</td>\n",
       "    </tr>\n",
       "  </tbody>\n",
       "</table>\n",
       "<p>10206 rows × 16 columns</p>\n",
       "</div>"
      ],
      "text/plain": [
       "      Install_Dates  campaign_id Country  installs  spends     1d_LTV  \\\n",
       "0        2020-04-14        90570      CZ      35.0   19.79   7.721194   \n",
       "1        2020-04-28        90619      AT       5.0    4.99   1.032342   \n",
       "2        2020-05-10       794235      PK      79.0    0.40   0.212500   \n",
       "3        2020-05-07        91872      FR      12.0    9.56   4.661390   \n",
       "4        2020-04-03        19115      JP       6.0    3.39   0.833442   \n",
       "...             ...          ...     ...       ...     ...        ...   \n",
       "10201    2020-04-02        90464      UN       0.0    0.45   0.000000   \n",
       "10202    2020-04-27        19115      DE      27.0   21.33  31.003103   \n",
       "10203    2020-03-27       159253      DK       2.0    0.19   0.351962   \n",
       "10204    2020-04-12       790034      RU     534.0   81.06  47.323662   \n",
       "10205    2020-04-28       787733      FR      11.0    3.16   1.369476   \n",
       "\n",
       "          3d_LTV     7d_LTV    14d_LTV    30d_LTV    60d_LTV  best_installs  \\\n",
       "0       8.104811  10.209480  11.845200  15.349594  15.768420      31.966315   \n",
       "1       1.032342   1.248888   1.501317   1.761729  -1.000000       0.000000   \n",
       "2       0.254620   0.390186   0.519535   0.652006  -1.000000       0.000000   \n",
       "3       4.787784   6.422362   6.596973   6.596973  -1.000000       0.000000   \n",
       "4       0.833442   1.103046   1.167516   1.398647   1.416652       0.000000   \n",
       "...          ...        ...        ...        ...        ...            ...   \n",
       "10201   0.000000   0.000000   0.000000   0.000000   0.000000       0.000000   \n",
       "10202  36.859179  45.552113  52.804398  58.205993  -1.000000       0.000000   \n",
       "10203   0.351962   0.386234   0.448579   0.564261   0.693104       0.000000   \n",
       "10204  56.483875  65.396237  75.178386  85.603100  92.690140     278.517898   \n",
       "10205   1.464028   2.239044   2.464347   2.618610  -1.000000       0.000000   \n",
       "\n",
       "        best_budget          diff status    60d_ROAS  \n",
       "0        349.876273   -342.773727    cut   79.678728  \n",
       "1          0.000000    -24.950000   stop  -20.040080  \n",
       "2          0.000000    -31.600000   stop -250.000000  \n",
       "3          0.000000   -114.720000   stop  -10.460251  \n",
       "4          0.000000    -20.340000   stop   41.789143  \n",
       "...             ...           ...    ...         ...  \n",
       "10201      0.000000      0.000000   stop    0.000000  \n",
       "10202      0.000000   -575.910000   stop   -4.688233  \n",
       "10203      0.000000     -0.380000   stop  364.791594  \n",
       "10204  13629.239907 -29656.800093    cut  114.347569  \n",
       "10205      0.000000    -34.760000   stop  -31.645570  \n",
       "\n",
       "[10206 rows x 16 columns]"
      ]
     },
     "execution_count": 341,
     "metadata": {},
     "output_type": "execute_result"
    }
   ],
   "source": [
    "df['60d_ROAS'] = df['60d_LTV'] / df['spends'] * 100\n",
    "df"
   ]
  },
  {
   "cell_type": "markdown",
   "id": "67f587b3",
   "metadata": {},
   "source": [
    "На очень скорую руку можно прогнать регрессию ROAS на COST и посмотреть на коэффициент перед COST. К сожалению, я не успеваю нормально обработать данные или использовать более сложные методы."
   ]
  },
  {
   "cell_type": "code",
   "execution_count": 348,
   "id": "cbcdcf6a",
   "metadata": {},
   "outputs": [
    {
     "data": {
      "text/html": [
       "<table class=\"simpletable\">\n",
       "<caption>OLS Regression Results</caption>\n",
       "<tr>\n",
       "  <th>Dep. Variable:</th>        <td>60d_ROAS</td>     <th>  R-squared:         </th> <td>   0.000</td> \n",
       "</tr>\n",
       "<tr>\n",
       "  <th>Model:</th>                   <td>OLS</td>       <th>  Adj. R-squared:    </th> <td>  -0.000</td> \n",
       "</tr>\n",
       "<tr>\n",
       "  <th>Method:</th>             <td>Least Squares</td>  <th>  F-statistic:       </th> <td>  0.2574</td> \n",
       "</tr>\n",
       "<tr>\n",
       "  <th>Date:</th>             <td>Sun, 28 Jul 2024</td> <th>  Prob (F-statistic):</th>  <td> 0.612</td>  \n",
       "</tr>\n",
       "<tr>\n",
       "  <th>Time:</th>                 <td>02:50:30</td>     <th>  Log-Likelihood:    </th> <td> -35729.</td> \n",
       "</tr>\n",
       "<tr>\n",
       "  <th>No. Observations:</th>      <td>  4578</td>      <th>  AIC:               </th> <td>7.146e+04</td>\n",
       "</tr>\n",
       "<tr>\n",
       "  <th>Df Residuals:</th>          <td>  4576</td>      <th>  BIC:               </th> <td>7.148e+04</td>\n",
       "</tr>\n",
       "<tr>\n",
       "  <th>Df Model:</th>              <td>     1</td>      <th>                     </th>     <td> </td>    \n",
       "</tr>\n",
       "<tr>\n",
       "  <th>Covariance Type:</th>      <td>nonrobust</td>    <th>                     </th>     <td> </td>    \n",
       "</tr>\n",
       "</table>\n",
       "<table class=\"simpletable\">\n",
       "<tr>\n",
       "    <td></td>       <th>coef</th>     <th>std err</th>      <th>t</th>      <th>P>|t|</th>  <th>[0.025</th>    <th>0.975]</th>  \n",
       "</tr>\n",
       "<tr>\n",
       "  <th>const</th> <td>  172.0568</td> <td>    8.810</td> <td>   19.530</td> <td> 0.000</td> <td>  154.785</td> <td>  189.329</td>\n",
       "</tr>\n",
       "<tr>\n",
       "  <th>0</th>     <td>-2.887e-05</td> <td> 5.69e-05</td> <td>   -0.507</td> <td> 0.612</td> <td>   -0.000</td> <td> 8.27e-05</td>\n",
       "</tr>\n",
       "</table>\n",
       "<table class=\"simpletable\">\n",
       "<tr>\n",
       "  <th>Omnibus:</th>       <td>9516.193</td> <th>  Durbin-Watson:     </th>   <td>   2.004</td>  \n",
       "</tr>\n",
       "<tr>\n",
       "  <th>Prob(Omnibus):</th>  <td> 0.000</td>  <th>  Jarque-Bera (JB):  </th> <td>33611479.393</td>\n",
       "</tr>\n",
       "<tr>\n",
       "  <th>Skew:</th>           <td>17.600</td>  <th>  Prob(JB):          </th>   <td>    0.00</td>  \n",
       "</tr>\n",
       "<tr>\n",
       "  <th>Kurtosis:</th>       <td>421.292</td> <th>  Cond. No.          </th>   <td>1.56e+05</td>  \n",
       "</tr>\n",
       "</table><br/><br/>Notes:<br/>[1] Standard Errors assume that the covariance matrix of the errors is correctly specified.<br/>[2] The condition number is large, 1.56e+05. This might indicate that there are<br/>strong multicollinearity or other numerical problems."
      ],
      "text/plain": [
       "<class 'statsmodels.iolib.summary.Summary'>\n",
       "\"\"\"\n",
       "                            OLS Regression Results                            \n",
       "==============================================================================\n",
       "Dep. Variable:               60d_ROAS   R-squared:                       0.000\n",
       "Model:                            OLS   Adj. R-squared:                 -0.000\n",
       "Method:                 Least Squares   F-statistic:                    0.2574\n",
       "Date:                Sun, 28 Jul 2024   Prob (F-statistic):              0.612\n",
       "Time:                        02:50:30   Log-Likelihood:                -35729.\n",
       "No. Observations:                4578   AIC:                         7.146e+04\n",
       "Df Residuals:                    4576   BIC:                         7.148e+04\n",
       "Df Model:                           1                                         \n",
       "Covariance Type:            nonrobust                                         \n",
       "==============================================================================\n",
       "                 coef    std err          t      P>|t|      [0.025      0.975]\n",
       "------------------------------------------------------------------------------\n",
       "const        172.0568      8.810     19.530      0.000     154.785     189.329\n",
       "0          -2.887e-05   5.69e-05     -0.507      0.612      -0.000    8.27e-05\n",
       "==============================================================================\n",
       "Omnibus:                     9516.193   Durbin-Watson:                   2.004\n",
       "Prob(Omnibus):                  0.000   Jarque-Bera (JB):         33611479.393\n",
       "Skew:                          17.600   Prob(JB):                         0.00\n",
       "Kurtosis:                     421.292   Cond. No.                     1.56e+05\n",
       "==============================================================================\n",
       "\n",
       "Notes:\n",
       "[1] Standard Errors assume that the covariance matrix of the errors is correctly specified.\n",
       "[2] The condition number is large, 1.56e+05. This might indicate that there are\n",
       "strong multicollinearity or other numerical problems.\n",
       "\"\"\""
      ]
     },
     "execution_count": 348,
     "metadata": {},
     "output_type": "execute_result"
    }
   ],
   "source": [
    "model = sm.OLS(df.loc[df['60d_ROAS'] >=0, '60d_ROAS'], sm.add_constant(df.loc[df['60d_ROAS'] >=0, 'installs'] * df.loc[df['60d_ROAS'] >=0, 'spends']))\n",
    "results = model.fit()\n",
    "results.summary()"
   ]
  },
  {
   "cell_type": "markdown",
   "id": "24994528",
   "metadata": {},
   "source": [
    "Как можно заметить, коэф перед COST отрицательный, однако он незначим на любом разумной уровне значимости. Следовательно, гипотеза отвергается."
   ]
  },
  {
   "cell_type": "markdown",
   "id": "67cebf5f",
   "metadata": {},
   "source": [
    "2. По каждой рекламной кампании рассчитайте суточный рекламный бюджет который максимизирует абсолютную маркетинговую прибыль рекламной кампании (REVENUE 60 дня минус COST).\n",
    "\n",
    "__Ответ:__ Знаем, что связь между CPI (столбец 'spends') и количеством скачиваний (столбец 'installs') может быть нелинейной. Для этого сначала посмотрим на диаграмму рассеивания:"
   ]
  },
  {
   "cell_type": "code",
   "execution_count": 141,
   "id": "07ec0d4b",
   "metadata": {},
   "outputs": [
    {
     "data": {
      "image/png": "[encoded data removed]",
      "text/plain": [
       "<Figure size 1080x288 with 2 Axes>"
      ]
     },
     "metadata": {
      "needs_background": "light"
     },
     "output_type": "display_data"
    }
   ],
   "source": [
    "fig, (ax1, ax2) = plt.subplots(1, 2, sharey=True)\n",
    "fig.set_figwidth(15)\n",
    "\n",
    "ax1.scatter(df['installs'], df['spends'])\n",
    "ax1.set_xlabel('Installs')\n",
    "ax1.set_ylabel('CPI')\n",
    "ax1.set_title('Scatterplot Installs-CPI')\n",
    "\n",
    "ax2.scatter(df[df['installs'] < 1000]['installs'], df[df['installs'] < 1000]['spends'])\n",
    "ax2.set_xlabel('Installs')\n",
    "ax2.set_ylabel('CPI')\n",
    "ax2.set_title('Scatterplot Installs-CPI (Installs<1000)')\n",
    "plt.show()"
   ]
  },
  {
   "cell_type": "markdown",
   "id": "c98c13ff",
   "metadata": {},
   "source": [
    "Если смотреть на диаграмму всех данных, то кажется, что они неплохо описываются линейной зависимостью, однако если посмотреть отдельно на диаграмму для кампаний, привлекших меньше 1000 скачиваний, то видно, что при относительно небольших объемах CPI практически не меняется (или усредненная прямая имеет очень маленький наклон), а с ростом объемов этот наклон растет. Чтобы подобрать оптимальную функциональную форму для описания данных, можно обучить lasso-регрессию, включив туда различные степени зависимой переменной. Получив функциональную форму, которая бы хороша описывала данные, в дальнейшем мы сможем достаточно легко оптимизировать прибыль каждой кампании."
   ]
  },
  {
   "cell_type": "code",
   "execution_count": 212,
   "id": "68b2e5b2",
   "metadata": {},
   "outputs": [
    {
     "name": "stdout",
     "output_type": "stream",
     "text": [
      "a1, a2, a3 = [ 1.50372093e-01  1.36520183e-05 -3.03330873e-09]\n",
      "const = 6.136056566115032\n"
     ]
    }
   ],
   "source": [
    "lasso = Lasso()\n",
    "pol_features = PolynomialFeatures(3, include_bias=False)\n",
    "polinoms = pol_features.fit_transform(np.array(df['installs']).reshape(-1, 1))\n",
    "lasso.fit(polinoms, df['spends'])\n",
    "print(f'a1, a2, a3 = {lasso.coef_}')\n",
    "print(f'const = {lasso.intercept_}')"
   ]
  },
  {
   "cell_type": "code",
   "execution_count": 210,
   "id": "a87bff68",
   "metadata": {},
   "outputs": [
    {
     "data": {
      "image/png": "[encoded data removed]",
      "text/plain": [
       "<Figure size 1080x288 with 2 Axes>"
      ]
     },
     "metadata": {
      "needs_background": "light"
     },
     "output_type": "display_data"
    }
   ],
   "source": [
    "fig, (ax1, ax2) = plt.subplots(1, 2, sharey=True)\n",
    "fig.set_figwidth(15)\n",
    "\n",
    "ax1.scatter(df['installs'], df['spends'])\n",
    "ax1.set_xlabel('Installs')\n",
    "ax1.set_ylabel('CPI')\n",
    "ax1.set_title('Scatterplot Installs-CPI')\n",
    "ax1.plot(np.arange(max(df['installs'])),\n",
    "         lasso.intercept_ + np.multiply(lasso.coef_,\n",
    "         pol_features.fit_transform(np.arange(max(df['installs'])).reshape(-1, 1))).sum(axis=1),\n",
    "         c='r',\n",
    "         label=f\"Lasso regression\\nR-squared= {round(lasso.score(polinoms, df['spends']), 2)}\")\n",
    "ax1.legend()\n",
    "\n",
    "ax2.scatter(df[df['installs'] < 1000]['installs'], df[df['installs'] < 1000]['spends'])\n",
    "ax2.set_xlabel('Installs')\n",
    "ax2.set_ylabel('CPI')\n",
    "ax2.set_title('Scatterplot Installs-CPI (Installs<1000)')\n",
    "ax2.plot(np.arange(1000),\n",
    "         lasso.intercept_ + np.multiply(lasso.coef_,\n",
    "         pol_features.fit_transform(np.arange(1000).reshape(-1, 1))).sum(axis=1),\n",
    "         c='r',\n",
    "         label=f\"Lasso regression\\nR-squared= {round(lasso.score(polinoms, df['spends']), 2)}\")\n",
    "ax2.legend()\n",
    "plt.show()"
   ]
  },
  {
   "cell_type": "markdown",
   "id": "ca614f2a",
   "metadata": {},
   "source": [
    "Видно, что полученная регрессия в среднем достаточно неплохо описывает данные, однако коэффициент детерминации $R^2$ не очень высокий, что обусловлено очень высокой шумностью исходных данных.\n",
    "\n",
    "Итоговая взаимосвязь, которая будет использована для оптимизации прибыли в каждой кампании, выглядит следующим образом: \n",
    "\n",
    "$CPI = 6.136 + 0.15 \\cdot \\text{Installs} + 0.000014 \\cdot \\text{Installs}^2 - 0.000000003 \\cdot \\text{Installs}^3$\n",
    "\n",
    "Так как считаем, что LTV_60d не меняется от объема, то для i-й кампании прибыль будет следующей:\n",
    "\n",
    "$\\text{Profit}_i = (\\text{LTV_60d}_i - \\text{CPI}_i(\\text{Installs}_i)) \\cdot \\text{Installs}_i$"
   ]
  },
  {
   "cell_type": "code",
   "execution_count": 260,
   "id": "475e70ae",
   "metadata": {},
   "outputs": [],
   "source": [
    "# Оптимизируем бюджет для каждой кампании\n",
    "for i in df.index:\n",
    "    func = lambda x: -1 * (df.iloc[i]['60d_LTV'] - 6.136 - 0.15 * x - 0.000014 * x ** 2 + 0.000000003 * x ** 3) * x\n",
    "    df.loc[i, 'best_installs'] = scipy.optimize.minimize(func, df.iloc[i]['installs']).x"
   ]
  },
  {
   "cell_type": "code",
   "execution_count": 261,
   "id": "d23b104d",
   "metadata": {},
   "outputs": [
    {
     "data": {
      "text/html": [
       "<div>\n",
       "<style scoped>\n",
       "    .dataframe tbody tr th:only-of-type {\n",
       "        vertical-align: middle;\n",
       "    }\n",
       "\n",
       "    .dataframe tbody tr th {\n",
       "        vertical-align: top;\n",
       "    }\n",
       "\n",
       "    .dataframe thead th {\n",
       "        text-align: right;\n",
       "    }\n",
       "</style>\n",
       "<table border=\"1\" class=\"dataframe\">\n",
       "  <thead>\n",
       "    <tr style=\"text-align: right;\">\n",
       "      <th></th>\n",
       "      <th>Install_Dates</th>\n",
       "      <th>campaign_id</th>\n",
       "      <th>Country</th>\n",
       "      <th>installs</th>\n",
       "      <th>spends</th>\n",
       "      <th>1d_LTV</th>\n",
       "      <th>3d_LTV</th>\n",
       "      <th>7d_LTV</th>\n",
       "      <th>14d_LTV</th>\n",
       "      <th>30d_LTV</th>\n",
       "      <th>60d_LTV</th>\n",
       "      <th>best_installs</th>\n",
       "      <th>best_budget</th>\n",
       "    </tr>\n",
       "  </thead>\n",
       "  <tbody>\n",
       "    <tr>\n",
       "      <th>0</th>\n",
       "      <td>2020-04-14</td>\n",
       "      <td>90570</td>\n",
       "      <td>CZ</td>\n",
       "      <td>35.0</td>\n",
       "      <td>19.79</td>\n",
       "      <td>7.721194</td>\n",
       "      <td>8.104811</td>\n",
       "      <td>10.209480</td>\n",
       "      <td>11.845200</td>\n",
       "      <td>15.349594</td>\n",
       "      <td>15.768420</td>\n",
       "      <td>31.966315</td>\n",
       "      <td>349.876273</td>\n",
       "    </tr>\n",
       "    <tr>\n",
       "      <th>1</th>\n",
       "      <td>2020-04-28</td>\n",
       "      <td>90619</td>\n",
       "      <td>AT</td>\n",
       "      <td>5.0</td>\n",
       "      <td>4.99</td>\n",
       "      <td>1.032342</td>\n",
       "      <td>1.032342</td>\n",
       "      <td>1.248888</td>\n",
       "      <td>1.501317</td>\n",
       "      <td>1.761729</td>\n",
       "      <td>-1.000000</td>\n",
       "      <td>0.000000</td>\n",
       "      <td>0.000000</td>\n",
       "    </tr>\n",
       "    <tr>\n",
       "      <th>2</th>\n",
       "      <td>2020-05-10</td>\n",
       "      <td>794235</td>\n",
       "      <td>PK</td>\n",
       "      <td>79.0</td>\n",
       "      <td>0.40</td>\n",
       "      <td>0.212500</td>\n",
       "      <td>0.254620</td>\n",
       "      <td>0.390186</td>\n",
       "      <td>0.519535</td>\n",
       "      <td>0.652006</td>\n",
       "      <td>-1.000000</td>\n",
       "      <td>0.000000</td>\n",
       "      <td>0.000000</td>\n",
       "    </tr>\n",
       "    <tr>\n",
       "      <th>3</th>\n",
       "      <td>2020-05-07</td>\n",
       "      <td>91872</td>\n",
       "      <td>FR</td>\n",
       "      <td>12.0</td>\n",
       "      <td>9.56</td>\n",
       "      <td>4.661390</td>\n",
       "      <td>4.787784</td>\n",
       "      <td>6.422362</td>\n",
       "      <td>6.596973</td>\n",
       "      <td>6.596973</td>\n",
       "      <td>-1.000000</td>\n",
       "      <td>0.000000</td>\n",
       "      <td>0.000000</td>\n",
       "    </tr>\n",
       "    <tr>\n",
       "      <th>4</th>\n",
       "      <td>2020-04-03</td>\n",
       "      <td>19115</td>\n",
       "      <td>JP</td>\n",
       "      <td>6.0</td>\n",
       "      <td>3.39</td>\n",
       "      <td>0.833442</td>\n",
       "      <td>0.833442</td>\n",
       "      <td>1.103046</td>\n",
       "      <td>1.167516</td>\n",
       "      <td>1.398647</td>\n",
       "      <td>1.416652</td>\n",
       "      <td>0.000000</td>\n",
       "      <td>0.000000</td>\n",
       "    </tr>\n",
       "    <tr>\n",
       "      <th>...</th>\n",
       "      <td>...</td>\n",
       "      <td>...</td>\n",
       "      <td>...</td>\n",
       "      <td>...</td>\n",
       "      <td>...</td>\n",
       "      <td>...</td>\n",
       "      <td>...</td>\n",
       "      <td>...</td>\n",
       "      <td>...</td>\n",
       "      <td>...</td>\n",
       "      <td>...</td>\n",
       "      <td>...</td>\n",
       "      <td>...</td>\n",
       "    </tr>\n",
       "    <tr>\n",
       "      <th>10201</th>\n",
       "      <td>2020-04-02</td>\n",
       "      <td>90464</td>\n",
       "      <td>UN</td>\n",
       "      <td>0.0</td>\n",
       "      <td>0.45</td>\n",
       "      <td>0.000000</td>\n",
       "      <td>0.000000</td>\n",
       "      <td>0.000000</td>\n",
       "      <td>0.000000</td>\n",
       "      <td>0.000000</td>\n",
       "      <td>0.000000</td>\n",
       "      <td>0.000000</td>\n",
       "      <td>0.000000</td>\n",
       "    </tr>\n",
       "    <tr>\n",
       "      <th>10202</th>\n",
       "      <td>2020-04-27</td>\n",
       "      <td>19115</td>\n",
       "      <td>DE</td>\n",
       "      <td>27.0</td>\n",
       "      <td>21.33</td>\n",
       "      <td>31.003103</td>\n",
       "      <td>36.859179</td>\n",
       "      <td>45.552113</td>\n",
       "      <td>52.804398</td>\n",
       "      <td>58.205993</td>\n",
       "      <td>-1.000000</td>\n",
       "      <td>0.000000</td>\n",
       "      <td>0.000000</td>\n",
       "    </tr>\n",
       "    <tr>\n",
       "      <th>10203</th>\n",
       "      <td>2020-03-27</td>\n",
       "      <td>159253</td>\n",
       "      <td>DK</td>\n",
       "      <td>2.0</td>\n",
       "      <td>0.19</td>\n",
       "      <td>0.351962</td>\n",
       "      <td>0.351962</td>\n",
       "      <td>0.386234</td>\n",
       "      <td>0.448579</td>\n",
       "      <td>0.564261</td>\n",
       "      <td>0.693104</td>\n",
       "      <td>0.000000</td>\n",
       "      <td>0.000000</td>\n",
       "    </tr>\n",
       "    <tr>\n",
       "      <th>10204</th>\n",
       "      <td>2020-04-12</td>\n",
       "      <td>790034</td>\n",
       "      <td>RU</td>\n",
       "      <td>534.0</td>\n",
       "      <td>81.06</td>\n",
       "      <td>47.323662</td>\n",
       "      <td>56.483875</td>\n",
       "      <td>65.396237</td>\n",
       "      <td>75.178386</td>\n",
       "      <td>85.603100</td>\n",
       "      <td>92.690140</td>\n",
       "      <td>278.517898</td>\n",
       "      <td>13629.239907</td>\n",
       "    </tr>\n",
       "    <tr>\n",
       "      <th>10205</th>\n",
       "      <td>2020-04-28</td>\n",
       "      <td>787733</td>\n",
       "      <td>FR</td>\n",
       "      <td>11.0</td>\n",
       "      <td>3.16</td>\n",
       "      <td>1.369476</td>\n",
       "      <td>1.464028</td>\n",
       "      <td>2.239044</td>\n",
       "      <td>2.464347</td>\n",
       "      <td>2.618610</td>\n",
       "      <td>-1.000000</td>\n",
       "      <td>0.000000</td>\n",
       "      <td>0.000000</td>\n",
       "    </tr>\n",
       "  </tbody>\n",
       "</table>\n",
       "<p>10206 rows × 13 columns</p>\n",
       "</div>"
      ],
      "text/plain": [
       "      Install_Dates  campaign_id Country  installs  spends     1d_LTV  \\\n",
       "0        2020-04-14        90570      CZ      35.0   19.79   7.721194   \n",
       "1        2020-04-28        90619      AT       5.0    4.99   1.032342   \n",
       "2        2020-05-10       794235      PK      79.0    0.40   0.212500   \n",
       "3        2020-05-07        91872      FR      12.0    9.56   4.661390   \n",
       "4        2020-04-03        19115      JP       6.0    3.39   0.833442   \n",
       "...             ...          ...     ...       ...     ...        ...   \n",
       "10201    2020-04-02        90464      UN       0.0    0.45   0.000000   \n",
       "10202    2020-04-27        19115      DE      27.0   21.33  31.003103   \n",
       "10203    2020-03-27       159253      DK       2.0    0.19   0.351962   \n",
       "10204    2020-04-12       790034      RU     534.0   81.06  47.323662   \n",
       "10205    2020-04-28       787733      FR      11.0    3.16   1.369476   \n",
       "\n",
       "          3d_LTV     7d_LTV    14d_LTV    30d_LTV    60d_LTV  best_installs  \\\n",
       "0       8.104811  10.209480  11.845200  15.349594  15.768420      31.966315   \n",
       "1       1.032342   1.248888   1.501317   1.761729  -1.000000       0.000000   \n",
       "2       0.254620   0.390186   0.519535   0.652006  -1.000000       0.000000   \n",
       "3       4.787784   6.422362   6.596973   6.596973  -1.000000       0.000000   \n",
       "4       0.833442   1.103046   1.167516   1.398647   1.416652       0.000000   \n",
       "...          ...        ...        ...        ...        ...            ...   \n",
       "10201   0.000000   0.000000   0.000000   0.000000   0.000000       0.000000   \n",
       "10202  36.859179  45.552113  52.804398  58.205993  -1.000000       0.000000   \n",
       "10203   0.351962   0.386234   0.448579   0.564261   0.693104       0.000000   \n",
       "10204  56.483875  65.396237  75.178386  85.603100  92.690140     278.517898   \n",
       "10205   1.464028   2.239044   2.464347   2.618610  -1.000000       0.000000   \n",
       "\n",
       "        best_budget  \n",
       "0        349.876273  \n",
       "1          0.000000  \n",
       "2          0.000000  \n",
       "3          0.000000  \n",
       "4          0.000000  \n",
       "...             ...  \n",
       "10201      0.000000  \n",
       "10202      0.000000  \n",
       "10203      0.000000  \n",
       "10204  13629.239907  \n",
       "10205      0.000000  \n",
       "\n",
       "[10206 rows x 13 columns]"
      ]
     },
     "execution_count": 261,
     "metadata": {},
     "output_type": "execute_result"
    }
   ],
   "source": [
    "df.loc[df['best_installs'] < 0, 'best_installs'] = 0\n",
    "df.loc[:, 'best_budget'] = (6.136 + 0.15 * df['best_installs']\n",
    "                            + 0.000014 * df['best_installs'] ** 2\n",
    "                            - 0.000000003 * df['best_installs'] ** 3) * df['best_installs']\n",
    "\n",
    "df"
   ]
  },
  {
   "cell_type": "markdown",
   "id": "3a5df8cd",
   "metadata": {},
   "source": [
    "Получили достаточно логичные результаты!"
   ]
  },
  {
   "cell_type": "markdown",
   "id": "41ac9fd5",
   "metadata": {},
   "source": [
    "3. Исходя из пункта 2 по каждой рекламной кампании дайте ваше заключение о том насколько нужно увеличить / уменьшить ее суточный бюджет либо вообще остановить."
   ]
  },
  {
   "cell_type": "code",
   "execution_count": 262,
   "id": "88fba4f1",
   "metadata": {
    "scrolled": false
   },
   "outputs": [
    {
     "data": {
      "text/html": [
       "<div>\n",
       "<style scoped>\n",
       "    .dataframe tbody tr th:only-of-type {\n",
       "        vertical-align: middle;\n",
       "    }\n",
       "\n",
       "    .dataframe tbody tr th {\n",
       "        vertical-align: top;\n",
       "    }\n",
       "\n",
       "    .dataframe thead th {\n",
       "        text-align: right;\n",
       "    }\n",
       "</style>\n",
       "<table border=\"1\" class=\"dataframe\">\n",
       "  <thead>\n",
       "    <tr style=\"text-align: right;\">\n",
       "      <th></th>\n",
       "      <th>Install_Dates</th>\n",
       "      <th>campaign_id</th>\n",
       "      <th>Country</th>\n",
       "      <th>installs</th>\n",
       "      <th>spends</th>\n",
       "      <th>1d_LTV</th>\n",
       "      <th>3d_LTV</th>\n",
       "      <th>7d_LTV</th>\n",
       "      <th>14d_LTV</th>\n",
       "      <th>30d_LTV</th>\n",
       "      <th>60d_LTV</th>\n",
       "      <th>best_installs</th>\n",
       "      <th>best_budget</th>\n",
       "      <th>diff</th>\n",
       "      <th>status</th>\n",
       "    </tr>\n",
       "  </thead>\n",
       "  <tbody>\n",
       "    <tr>\n",
       "      <th>0</th>\n",
       "      <td>2020-04-14</td>\n",
       "      <td>90570</td>\n",
       "      <td>CZ</td>\n",
       "      <td>35.0</td>\n",
       "      <td>19.79</td>\n",
       "      <td>7.721194</td>\n",
       "      <td>8.104811</td>\n",
       "      <td>10.209480</td>\n",
       "      <td>11.845200</td>\n",
       "      <td>15.349594</td>\n",
       "      <td>15.768420</td>\n",
       "      <td>31.966315</td>\n",
       "      <td>349.876273</td>\n",
       "      <td>-342.773727</td>\n",
       "      <td>cut</td>\n",
       "    </tr>\n",
       "    <tr>\n",
       "      <th>1</th>\n",
       "      <td>2020-04-28</td>\n",
       "      <td>90619</td>\n",
       "      <td>AT</td>\n",
       "      <td>5.0</td>\n",
       "      <td>4.99</td>\n",
       "      <td>1.032342</td>\n",
       "      <td>1.032342</td>\n",
       "      <td>1.248888</td>\n",
       "      <td>1.501317</td>\n",
       "      <td>1.761729</td>\n",
       "      <td>-1.000000</td>\n",
       "      <td>0.000000</td>\n",
       "      <td>0.000000</td>\n",
       "      <td>-24.950000</td>\n",
       "      <td>stop</td>\n",
       "    </tr>\n",
       "    <tr>\n",
       "      <th>2</th>\n",
       "      <td>2020-05-10</td>\n",
       "      <td>794235</td>\n",
       "      <td>PK</td>\n",
       "      <td>79.0</td>\n",
       "      <td>0.40</td>\n",
       "      <td>0.212500</td>\n",
       "      <td>0.254620</td>\n",
       "      <td>0.390186</td>\n",
       "      <td>0.519535</td>\n",
       "      <td>0.652006</td>\n",
       "      <td>-1.000000</td>\n",
       "      <td>0.000000</td>\n",
       "      <td>0.000000</td>\n",
       "      <td>-31.600000</td>\n",
       "      <td>stop</td>\n",
       "    </tr>\n",
       "    <tr>\n",
       "      <th>3</th>\n",
       "      <td>2020-05-07</td>\n",
       "      <td>91872</td>\n",
       "      <td>FR</td>\n",
       "      <td>12.0</td>\n",
       "      <td>9.56</td>\n",
       "      <td>4.661390</td>\n",
       "      <td>4.787784</td>\n",
       "      <td>6.422362</td>\n",
       "      <td>6.596973</td>\n",
       "      <td>6.596973</td>\n",
       "      <td>-1.000000</td>\n",
       "      <td>0.000000</td>\n",
       "      <td>0.000000</td>\n",
       "      <td>-114.720000</td>\n",
       "      <td>stop</td>\n",
       "    </tr>\n",
       "    <tr>\n",
       "      <th>4</th>\n",
       "      <td>2020-04-03</td>\n",
       "      <td>19115</td>\n",
       "      <td>JP</td>\n",
       "      <td>6.0</td>\n",
       "      <td>3.39</td>\n",
       "      <td>0.833442</td>\n",
       "      <td>0.833442</td>\n",
       "      <td>1.103046</td>\n",
       "      <td>1.167516</td>\n",
       "      <td>1.398647</td>\n",
       "      <td>1.416652</td>\n",
       "      <td>0.000000</td>\n",
       "      <td>0.000000</td>\n",
       "      <td>-20.340000</td>\n",
       "      <td>stop</td>\n",
       "    </tr>\n",
       "    <tr>\n",
       "      <th>...</th>\n",
       "      <td>...</td>\n",
       "      <td>...</td>\n",
       "      <td>...</td>\n",
       "      <td>...</td>\n",
       "      <td>...</td>\n",
       "      <td>...</td>\n",
       "      <td>...</td>\n",
       "      <td>...</td>\n",
       "      <td>...</td>\n",
       "      <td>...</td>\n",
       "      <td>...</td>\n",
       "      <td>...</td>\n",
       "      <td>...</td>\n",
       "      <td>...</td>\n",
       "      <td>...</td>\n",
       "    </tr>\n",
       "    <tr>\n",
       "      <th>10201</th>\n",
       "      <td>2020-04-02</td>\n",
       "      <td>90464</td>\n",
       "      <td>UN</td>\n",
       "      <td>0.0</td>\n",
       "      <td>0.45</td>\n",
       "      <td>0.000000</td>\n",
       "      <td>0.000000</td>\n",
       "      <td>0.000000</td>\n",
       "      <td>0.000000</td>\n",
       "      <td>0.000000</td>\n",
       "      <td>0.000000</td>\n",
       "      <td>0.000000</td>\n",
       "      <td>0.000000</td>\n",
       "      <td>0.000000</td>\n",
       "      <td>stop</td>\n",
       "    </tr>\n",
       "    <tr>\n",
       "      <th>10202</th>\n",
       "      <td>2020-04-27</td>\n",
       "      <td>19115</td>\n",
       "      <td>DE</td>\n",
       "      <td>27.0</td>\n",
       "      <td>21.33</td>\n",
       "      <td>31.003103</td>\n",
       "      <td>36.859179</td>\n",
       "      <td>45.552113</td>\n",
       "      <td>52.804398</td>\n",
       "      <td>58.205993</td>\n",
       "      <td>-1.000000</td>\n",
       "      <td>0.000000</td>\n",
       "      <td>0.000000</td>\n",
       "      <td>-575.910000</td>\n",
       "      <td>stop</td>\n",
       "    </tr>\n",
       "    <tr>\n",
       "      <th>10203</th>\n",
       "      <td>2020-03-27</td>\n",
       "      <td>159253</td>\n",
       "      <td>DK</td>\n",
       "      <td>2.0</td>\n",
       "      <td>0.19</td>\n",
       "      <td>0.351962</td>\n",
       "      <td>0.351962</td>\n",
       "      <td>0.386234</td>\n",
       "      <td>0.448579</td>\n",
       "      <td>0.564261</td>\n",
       "      <td>0.693104</td>\n",
       "      <td>0.000000</td>\n",
       "      <td>0.000000</td>\n",
       "      <td>-0.380000</td>\n",
       "      <td>stop</td>\n",
       "    </tr>\n",
       "    <tr>\n",
       "      <th>10204</th>\n",
       "      <td>2020-04-12</td>\n",
       "      <td>790034</td>\n",
       "      <td>RU</td>\n",
       "      <td>534.0</td>\n",
       "      <td>81.06</td>\n",
       "      <td>47.323662</td>\n",
       "      <td>56.483875</td>\n",
       "      <td>65.396237</td>\n",
       "      <td>75.178386</td>\n",
       "      <td>85.603100</td>\n",
       "      <td>92.690140</td>\n",
       "      <td>278.517898</td>\n",
       "      <td>13629.239907</td>\n",
       "      <td>-29656.800093</td>\n",
       "      <td>cut</td>\n",
       "    </tr>\n",
       "    <tr>\n",
       "      <th>10205</th>\n",
       "      <td>2020-04-28</td>\n",
       "      <td>787733</td>\n",
       "      <td>FR</td>\n",
       "      <td>11.0</td>\n",
       "      <td>3.16</td>\n",
       "      <td>1.369476</td>\n",
       "      <td>1.464028</td>\n",
       "      <td>2.239044</td>\n",
       "      <td>2.464347</td>\n",
       "      <td>2.618610</td>\n",
       "      <td>-1.000000</td>\n",
       "      <td>0.000000</td>\n",
       "      <td>0.000000</td>\n",
       "      <td>-34.760000</td>\n",
       "      <td>stop</td>\n",
       "    </tr>\n",
       "  </tbody>\n",
       "</table>\n",
       "<p>10206 rows × 15 columns</p>\n",
       "</div>"
      ],
      "text/plain": [
       "      Install_Dates  campaign_id Country  installs  spends     1d_LTV  \\\n",
       "0        2020-04-14        90570      CZ      35.0   19.79   7.721194   \n",
       "1        2020-04-28        90619      AT       5.0    4.99   1.032342   \n",
       "2        2020-05-10       794235      PK      79.0    0.40   0.212500   \n",
       "3        2020-05-07        91872      FR      12.0    9.56   4.661390   \n",
       "4        2020-04-03        19115      JP       6.0    3.39   0.833442   \n",
       "...             ...          ...     ...       ...     ...        ...   \n",
       "10201    2020-04-02        90464      UN       0.0    0.45   0.000000   \n",
       "10202    2020-04-27        19115      DE      27.0   21.33  31.003103   \n",
       "10203    2020-03-27       159253      DK       2.0    0.19   0.351962   \n",
       "10204    2020-04-12       790034      RU     534.0   81.06  47.323662   \n",
       "10205    2020-04-28       787733      FR      11.0    3.16   1.369476   \n",
       "\n",
       "          3d_LTV     7d_LTV    14d_LTV    30d_LTV    60d_LTV  best_installs  \\\n",
       "0       8.104811  10.209480  11.845200  15.349594  15.768420      31.966315   \n",
       "1       1.032342   1.248888   1.501317   1.761729  -1.000000       0.000000   \n",
       "2       0.254620   0.390186   0.519535   0.652006  -1.000000       0.000000   \n",
       "3       4.787784   6.422362   6.596973   6.596973  -1.000000       0.000000   \n",
       "4       0.833442   1.103046   1.167516   1.398647   1.416652       0.000000   \n",
       "...          ...        ...        ...        ...        ...            ...   \n",
       "10201   0.000000   0.000000   0.000000   0.000000   0.000000       0.000000   \n",
       "10202  36.859179  45.552113  52.804398  58.205993  -1.000000       0.000000   \n",
       "10203   0.351962   0.386234   0.448579   0.564261   0.693104       0.000000   \n",
       "10204  56.483875  65.396237  75.178386  85.603100  92.690140     278.517898   \n",
       "10205   1.464028   2.239044   2.464347   2.618610  -1.000000       0.000000   \n",
       "\n",
       "        best_budget          diff status  \n",
       "0        349.876273   -342.773727    cut  \n",
       "1          0.000000    -24.950000   stop  \n",
       "2          0.000000    -31.600000   stop  \n",
       "3          0.000000   -114.720000   stop  \n",
       "4          0.000000    -20.340000   stop  \n",
       "...             ...           ...    ...  \n",
       "10201      0.000000      0.000000   stop  \n",
       "10202      0.000000   -575.910000   stop  \n",
       "10203      0.000000     -0.380000   stop  \n",
       "10204  13629.239907 -29656.800093    cut  \n",
       "10205      0.000000    -34.760000   stop  \n",
       "\n",
       "[10206 rows x 15 columns]"
      ]
     },
     "execution_count": 262,
     "metadata": {},
     "output_type": "execute_result"
    }
   ],
   "source": [
    "df['diff'] = df['best_budget'] - df['installs'] * df['spends']\n",
    "df['status'] = 'cut'\n",
    "df.loc[df['diff'] > 0, 'status'] = 'rise'\n",
    "df.loc[df['diff'] == 0, 'status'] = 'keep'\n",
    "df.loc[df['best_installs'] == 0, 'status'] = 'stop'\n",
    "\n",
    "df"
   ]
  },
  {
   "cell_type": "markdown",
   "id": "9956a761",
   "metadata": {},
   "source": [
    "Столбец 'dif' показывает, насколько текущий бюджет отличается от оптимального, cтолбец 'status' указывает на оптимальное действие - повышение или снижение бюджета или полная остановка кампании."
   ]
  },
  {
   "cell_type": "markdown",
   "id": "fae062e7",
   "metadata": {},
   "source": [
    "4. Решите проблему рекламных кампаний по которым еще нет полных 60 дней. Объясните почему ваше решение оптимально"
   ]
  },
  {
   "cell_type": "code",
   "execution_count": 273,
   "id": "66e7044e",
   "metadata": {},
   "outputs": [
    {
     "data": {
      "image/png": "[encoded data removed]",
      "text/plain": [
       "<Figure size 1080x720 with 6 Axes>"
      ]
     },
     "metadata": {
      "needs_background": "light"
     },
     "output_type": "display_data"
    }
   ],
   "source": [
    "campaigns_60d = df[df['60d_LTV'] != -1]\n",
    "\n",
    "fig, ((ax1, ax2, ax3), (ax4, ax5, ax6)) = plt.subplots(2, 3, sharey=True)\n",
    "fig.set_figwidth(15)\n",
    "fig.set_figheight(10)\n",
    "\n",
    "ax1.scatter(campaigns_60d['1d_LTV'], campaigns_60d['60d_LTV'])\n",
    "ax1.set_xlabel('1d_LTV')\n",
    "ax1.set_ylabel('60d_LTV')\n",
    "ax1.set_title('1d_LTV-60d_LTV')\n",
    "\n",
    "ax2.scatter(campaigns_60d['3d_LTV'], campaigns_60d['60d_LTV'])\n",
    "ax2.set_xlabel('3d_LTV')\n",
    "ax2.set_ylabel('60d_LTV')\n",
    "ax2.set_title('3d_LTV-60d_LTV')\n",
    "\n",
    "ax3.scatter(campaigns_60d['7d_LTV'], campaigns_60d['60d_LTV'])\n",
    "ax3.set_xlabel('7d_LTV')\n",
    "ax3.set_ylabel('60d_LTV')\n",
    "ax3.set_title('7d_LTV-60d_LTV')\n",
    "\n",
    "ax4.scatter(campaigns_60d['14d_LTV'], campaigns_60d['60d_LTV'])\n",
    "ax4.set_xlabel('14d_LTV')\n",
    "ax4.set_ylabel('60d_LTV')\n",
    "ax4.set_title('14d_LTV-60d_LTV')\n",
    "\n",
    "ax5.scatter(campaigns_60d['30d_LTV'], campaigns_60d['60d_LTV'])\n",
    "ax5.set_xlabel('30d_LTV')\n",
    "ax5.set_ylabel('60d_LTV')\n",
    "ax5.set_title('30d_LTV-60d_LTV')\n",
    "\n",
    "ax6.scatter(campaigns_60d['60d_LTV'], campaigns_60d['60d_LTV'])\n",
    "ax6.set_xlabel('60d_LTV')\n",
    "ax6.set_ylabel('60d_LTV')\n",
    "ax6.set_title('60d_LTV-60d_LTV')\n",
    "\n",
    "plt.show()"
   ]
  },
  {
   "cell_type": "markdown",
   "id": "60593dbb",
   "metadata": {},
   "source": [
    "На основе кампаний, где есть полные 60 дней, можно видеть, что связь LTV 60-го дня с LTV более ранних периодов почти что линейная (LTV 30-го дня практически совпадает с LTV 60-го). Следовательно, для более недавних кампаний можно можно построить линейную модель, предсказывающую LTV 60-го дня и строить оптимальный бюджет, исходя из прогноза. Такой подход будет вполне оптимальным, так как связь в данных достаточно низкая дисперсия, что позволяет дать весьма точный прогноз при помощи линейной модели."
   ]
  },
  {
   "cell_type": "markdown",
   "id": "85164c41",
   "metadata": {},
   "source": [
    "# 5. Связь рекламного трафика и органического"
   ]
  },
  {
   "cell_type": "markdown",
   "id": "5b70b9ad",
   "metadata": {},
   "source": [
    "Приток новых игроков делится на 2 основных источника - рекламный и органический. Отдел маркетинг выдвигает гипотезу о связи рекламного и органического траффика: когда маркетологи привлекают больше рекламного траффика, растет и органический.\n",
    "Для выполнения задачи необходимо использовать тестовый датасет (таблица source_comparison)."
   ]
  },
  {
   "cell_type": "code",
   "execution_count": 34,
   "id": "1e4b03a8",
   "metadata": {},
   "outputs": [
    {
     "data": {
      "text/html": [
       "<div>\n",
       "<style scoped>\n",
       "    .dataframe tbody tr th:only-of-type {\n",
       "        vertical-align: middle;\n",
       "    }\n",
       "\n",
       "    .dataframe tbody tr th {\n",
       "        vertical-align: top;\n",
       "    }\n",
       "\n",
       "    .dataframe thead th {\n",
       "        text-align: right;\n",
       "    }\n",
       "</style>\n",
       "<table border=\"1\" class=\"dataframe\">\n",
       "  <thead>\n",
       "    <tr style=\"text-align: right;\">\n",
       "      <th></th>\n",
       "      <th>Install_Dates</th>\n",
       "      <th>source_type</th>\n",
       "      <th>Country</th>\n",
       "      <th>installs</th>\n",
       "    </tr>\n",
       "  </thead>\n",
       "  <tbody>\n",
       "    <tr>\n",
       "      <th>0</th>\n",
       "      <td>2020-05-18</td>\n",
       "      <td>Paid</td>\n",
       "      <td>PY</td>\n",
       "      <td>4.0</td>\n",
       "    </tr>\n",
       "    <tr>\n",
       "      <th>1</th>\n",
       "      <td>2020-04-14</td>\n",
       "      <td>Paid</td>\n",
       "      <td>FR</td>\n",
       "      <td>35.0</td>\n",
       "    </tr>\n",
       "    <tr>\n",
       "      <th>2</th>\n",
       "      <td>2020-04-30</td>\n",
       "      <td>Paid</td>\n",
       "      <td>JP</td>\n",
       "      <td>25.0</td>\n",
       "    </tr>\n",
       "    <tr>\n",
       "      <th>3</th>\n",
       "      <td>2020-03-20</td>\n",
       "      <td>Paid</td>\n",
       "      <td>DE</td>\n",
       "      <td>11.0</td>\n",
       "    </tr>\n",
       "    <tr>\n",
       "      <th>4</th>\n",
       "      <td>2020-04-30</td>\n",
       "      <td>Paid</td>\n",
       "      <td>IT</td>\n",
       "      <td>8.0</td>\n",
       "    </tr>\n",
       "  </tbody>\n",
       "</table>\n",
       "</div>"
      ],
      "text/plain": [
       "  Install_Dates source_type Country  installs\n",
       "0    2020-05-18        Paid      PY       4.0\n",
       "1    2020-04-14        Paid      FR      35.0\n",
       "2    2020-04-30        Paid      JP      25.0\n",
       "3    2020-03-20        Paid      DE      11.0\n",
       "4    2020-04-30        Paid      IT       8.0"
      ]
     },
     "execution_count": 34,
     "metadata": {},
     "output_type": "execute_result"
    }
   ],
   "source": [
    "source_comparison = pd.read_sql_query(\"SELECT * FROM source_comparison\", db) \n",
    "source_comparison.head()"
   ]
  },
  {
   "cell_type": "markdown",
   "id": "e0a13f82",
   "metadata": {},
   "source": [
    "1. Используя Causal Impact Analysis подтвердите или опровергните гипотезу маркетологов. Если вы ее опровергаете, то сформулируйте гипотезу которая кажется вам наиболее вероятной и проверьте ее"
   ]
  },
  {
   "cell_type": "code",
   "execution_count": 55,
   "id": "cfe421d7",
   "metadata": {},
   "outputs": [],
   "source": [
    "source_comparison = source_comparison.sort_values(by=['Install_Dates'])\n",
    "organic = source_comparison[source_comparison['source_type'] == 'Organic'].groupby(by='Install_Dates').sum()\n",
    "paid = source_comparison[source_comparison['source_type'] == 'Paid'].groupby(by='Install_Dates').sum()"
   ]
  },
  {
   "cell_type": "code",
   "execution_count": 275,
   "id": "efcddb7b",
   "metadata": {},
   "outputs": [
    {
     "data": {
      "image/png": "[encoded data removed]",
      "text/plain": [
       "<Figure size 864x576 with 1 Axes>"
      ]
     },
     "metadata": {
      "needs_background": "light"
     },
     "output_type": "display_data"
    }
   ],
   "source": [
    "plt.figure(figsize=(12,8))\n",
    "plt.title('Количество ежедневных скачиваний по источникам траффика')\n",
    "plt.plot(organic.index, organic.values, label='Organic traffic')\n",
    "plt.plot(paid.index, paid.values, label='Paid traffic')\n",
    "plt.xticks(rotation=90)\n",
    "plt.legend()\n",
    "plt.show()"
   ]
  },
  {
   "cell_type": "markdown",
   "id": "3a7ca212",
   "metadata": {},
   "source": [
    "Не совсем понятно в какой момент здесь начинается treatment, так как данные paid трафик есть все время.\n",
    "\n",
    "Не успеваю доделать."
   ]
  }
 ],
 "metadata": {
  "kernelspec": {
   "display_name": "Python 3 (ipykernel)",
   "language": "python",
   "name": "python3"
  },
  "language_info": {
   "codemirror_mode": {
    "name": "ipython",
    "version": 3
   },
   "file_extension": ".py",
   "mimetype": "text/x-python",
   "name": "python",
   "nbconvert_exporter": "python",
   "pygments_lexer": "ipython3",
   "version": "3.9.12"
  }
 },
 "nbformat": 4,
 "nbformat_minor": 5
}
